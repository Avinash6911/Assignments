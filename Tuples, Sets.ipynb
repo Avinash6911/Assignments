{
 "cells": [
  {
   "cell_type": "code",
   "execution_count": null,
   "id": "b11c0d45",
   "metadata": {},
   "outputs": [],
   "source": [
    "#Problem 1"
   ]
  },
  {
   "cell_type": "code",
   "execution_count": null,
   "id": "46039906",
   "metadata": {},
   "outputs": [],
   "source": [
    "def myreduce(function, mylist):\n",
    "    for i in range(len(mylist)):\n",
    "        if i == 0:\n",
    "            val = mylist[i]\n",
    "        else:\n",
    "            val = function(val, mylist[i])\n",
    "    return val   "
   ]
  },
  {
   "cell_type": "code",
   "execution_count": 18,
   "id": "aee6d506",
   "metadata": {},
   "outputs": [
    {
     "data": {
      "text/plain": [
       "11"
      ]
     },
     "execution_count": 18,
     "metadata": {},
     "output_type": "execute_result"
    }
   ],
   "source": [
    "a = [1,2,3,5]\n",
    "myreduce(lambda x,y:x+y,a)"
   ]
  },
  {
   "cell_type": "code",
   "execution_count": 38,
   "id": "2431d206",
   "metadata": {},
   "outputs": [],
   "source": [
    "def myfilter(func,mylist):\n",
    "    resList=[]\n",
    "    for i in mylist:\n",
    "        res = func(i)\n",
    "        if res == True:\n",
    "            resList.append(i)\n",
    "    return resList"
   ]
  },
  {
   "cell_type": "code",
   "execution_count": 39,
   "id": "48704d77",
   "metadata": {},
   "outputs": [
    {
     "data": {
      "text/plain": [
       "[2, 6]"
      ]
     },
     "execution_count": 39,
     "metadata": {},
     "output_type": "execute_result"
    }
   ],
   "source": [
    "a = [1,2,3,5,6]\n",
    "list(myfilter(lambda x: True if x%2==0 else False,a))"
   ]
  },
  {
   "cell_type": "code",
   "execution_count": 25,
   "id": "c899576c",
   "metadata": {},
   "outputs": [],
   "source": [
    "#Problem 2"
   ]
  },
  {
   "cell_type": "code",
   "execution_count": 28,
   "id": "e28b7cd2",
   "metadata": {},
   "outputs": [
    {
     "data": {
      "text/plain": [
       "['x', 'xx', 'xxx', 'xxxx', 'y', 'yy', 'yyy', 'yyyy', 'z', 'zz', 'zzz', 'zzzz']"
      ]
     },
     "execution_count": 28,
     "metadata": {},
     "output_type": "execute_result"
    }
   ],
   "source": [
    "inList = ['x','y','z']\n",
    "[i*j for i in inList for j in range(1,5)]"
   ]
  },
  {
   "cell_type": "code",
   "execution_count": 29,
   "id": "68b7ece1",
   "metadata": {},
   "outputs": [
    {
     "data": {
      "text/plain": [
       "['x', 'y', 'z', 'xx', 'yy', 'zz', 'xxx', 'yyy', 'zzz', 'xxxx', 'yyyy', 'zzzz']"
      ]
     },
     "execution_count": 29,
     "metadata": {},
     "output_type": "execute_result"
    }
   ],
   "source": [
    "inList = ['x','y','z']\n",
    "[i*j for i in range(1,5) for j in inList]"
   ]
  },
  {
   "cell_type": "code",
   "execution_count": 30,
   "id": "6964cc6a",
   "metadata": {},
   "outputs": [
    {
     "data": {
      "text/plain": [
       "[[2], [3], [4], [3], [4], [5], [4], [5], [6]]"
      ]
     },
     "execution_count": 30,
     "metadata": {},
     "output_type": "execute_result"
    }
   ],
   "source": [
    "inList = [2,3,4]\n",
    "[[i+j] for i in inList for j in range(3)]"
   ]
  },
  {
   "cell_type": "code",
   "execution_count": 31,
   "id": "aaddd7a8",
   "metadata": {},
   "outputs": [
    {
     "data": {
      "text/plain": [
       "[[2, 3, 4, 5], [3, 4, 5, 6], [4, 5, 6, 7], [5, 6, 7, 8]]"
      ]
     },
     "execution_count": 31,
     "metadata": {},
     "output_type": "execute_result"
    }
   ],
   "source": [
    "inList = [1,2,3,4]\n",
    "[[i+1,i+2,i+3,i+4] for i in inList]"
   ]
  },
  {
   "cell_type": "code",
   "execution_count": 32,
   "id": "fa159bf7",
   "metadata": {},
   "outputs": [
    {
     "data": {
      "text/plain": [
       "[(1, 1), (2, 1), (3, 1), (1, 2), (2, 2), (3, 2), (1, 3), (2, 3), (3, 3)]"
      ]
     },
     "execution_count": 32,
     "metadata": {},
     "output_type": "execute_result"
    }
   ],
   "source": [
    "[(j,i) for i in range(1,4) for j in range(1,4)]"
   ]
  },
  {
   "cell_type": "code",
   "execution_count": null,
   "id": "77654f5b",
   "metadata": {},
   "outputs": [],
   "source": []
  }
 ],
 "metadata": {
  "kernelspec": {
   "display_name": "Python 3",
   "language": "python",
   "name": "python3"
  },
  "language_info": {
   "codemirror_mode": {
    "name": "ipython",
    "version": 3
   },
   "file_extension": ".py",
   "mimetype": "text/x-python",
   "name": "python",
   "nbconvert_exporter": "python",
   "pygments_lexer": "ipython3",
   "version": "3.8.8"
  }
 },
 "nbformat": 4,
 "nbformat_minor": 5
}
