{
 "cells": [
  {
   "cell_type": "code",
   "execution_count": 1,
   "id": "6da0fa4a",
   "metadata": {},
   "outputs": [],
   "source": [
    "#Problem 1.1"
   ]
  },
  {
   "cell_type": "code",
   "execution_count": 2,
   "id": "6f70b86c",
   "metadata": {},
   "outputs": [],
   "source": [
    "class lenOfSides:\n",
    "    def __init__(self, a, b, c):\n",
    "        self.a = float(a)\n",
    "        self.b = float(b)\n",
    "        self.c = float(c)\n",
    "\n",
    "class areaOfTriangle(lenOfSides):\n",
    "    def __init__(self, *args):\n",
    "        super(areaOfTriangle,self).__init__(*args)\n",
    "        \n",
    "    def area(self):\n",
    "        s = (self.a + self.b + self.c)/2\n",
    "        return (s*(s-self.a)*(s-self.b)*(s-self.c)) ** 0.5\n",
    "    "
   ]
  },
  {
   "cell_type": "code",
   "execution_count": 5,
   "id": "cf2b0b34",
   "metadata": {},
   "outputs": [
    {
     "name": "stdout",
     "output_type": "stream",
     "text": [
      "a=3\n",
      "b=4\n",
      "c=5\n",
      "Area of Triange: 6.0\n"
     ]
    }
   ],
   "source": [
    "a = float(input(\"a=\"))\n",
    "b = float(input(\"b=\"))\n",
    "c = float(input(\"c=\"))\n",
    "area = areaOfTriangle(a, b, c)\n",
    "print(\"Area of Triange: {}\".format(area.area()))"
   ]
  },
  {
   "cell_type": "code",
   "execution_count": 6,
   "id": "bd052c48",
   "metadata": {},
   "outputs": [],
   "source": [
    "#Problem 1.2"
   ]
  },
  {
   "cell_type": "code",
   "execution_count": 1,
   "id": "a65d5df5",
   "metadata": {},
   "outputs": [
    {
     "name": "stdout",
     "output_type": "stream",
     "text": [
      "Enter number of words: 3\n",
      "Enter word 1:Hello\n",
      "Hello\n",
      "Enter word 2:Hi\n",
      "Hi\n",
      "Enter word 3:Avinash\n",
      "Avinash\n",
      "Enter n value: 4\n"
     ]
    },
    {
     "data": {
      "text/plain": [
       "['Hello', 'Avinash']"
      ]
     },
     "execution_count": 1,
     "metadata": {},
     "output_type": "execute_result"
    }
   ],
   "source": [
    "def filter_long_words():\n",
    "    listLen = int(input(\"Enter number of words: \"))\n",
    "    lst = []\n",
    "    for i in range(listLen):\n",
    "        word = input(\"Enter word {}:\".format(i+1))\n",
    "        print(word)\n",
    "        lst.append(word)\n",
    "    n = int(input(\"Enter n value: \"))\n",
    "    res = list()\n",
    "    for i in lst:\n",
    "        if len(i) > n:\n",
    "            res.append(i)\n",
    "    return res\n",
    "\n",
    "filter_long_words()"
   ]
  },
  {
   "cell_type": "code",
   "execution_count": 2,
   "id": "fc2b8ec6",
   "metadata": {},
   "outputs": [],
   "source": [
    "#Problem 2.1"
   ]
  },
  {
   "cell_type": "code",
   "execution_count": 12,
   "id": "3ccaa003",
   "metadata": {},
   "outputs": [
    {
     "data": {
      "text/plain": [
       "[2, 3, 4]"
      ]
     },
     "execution_count": 12,
     "metadata": {},
     "output_type": "execute_result"
    }
   ],
   "source": [
    "def mapExample():\n",
    "    inputList = [\"ab\",\"cde\",\"erty\"]\n",
    "    return list(map(lambda x:len(x),inputList))\n",
    "\n",
    "mapExample()"
   ]
  },
  {
   "cell_type": "raw",
   "id": "e796525e",
   "metadata": {},
   "source": [
    "#Problem 2.3"
   ]
  },
  {
   "cell_type": "code",
   "execution_count": 16,
   "id": "7b2e91bb",
   "metadata": {},
   "outputs": [
    {
     "name": "stdout",
     "output_type": "stream",
     "text": [
      "Enter a characterr\n"
     ]
    },
    {
     "data": {
      "text/plain": [
       "False"
      ]
     },
     "execution_count": 16,
     "metadata": {},
     "output_type": "execute_result"
    }
   ],
   "source": [
    "def validateVowel():\n",
    "    vowelValues = ['a','e','i','o','u','A','E','I','O','U']\n",
    "    c = str(input(\"Enter a character\"))\n",
    "    if c in vowelValues:\n",
    "        return True\n",
    "    else:\n",
    "        return False\n",
    "    \n",
    "validateVowel()"
   ]
  },
  {
   "cell_type": "code",
   "execution_count": null,
   "id": "5664cdf2",
   "metadata": {},
   "outputs": [],
   "source": []
  }
 ],
 "metadata": {
  "kernelspec": {
   "display_name": "Python 3",
   "language": "python",
   "name": "python3"
  },
  "language_info": {
   "codemirror_mode": {
    "name": "ipython",
    "version": 3
   },
   "file_extension": ".py",
   "mimetype": "text/x-python",
   "name": "python",
   "nbconvert_exporter": "python",
   "pygments_lexer": "ipython3",
   "version": "3.8.8"
  }
 },
 "nbformat": 4,
 "nbformat_minor": 5
}
